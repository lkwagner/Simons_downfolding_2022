{
 "cells": [
  {
   "cell_type": "code",
   "execution_count": 1,
   "metadata": {},
   "outputs": [],
   "source": [
    "import pyscf\n",
    "from pyscf.tools import cubegen\n",
    "import matplotlib.pyplot as plt\n",
    "import numpy as np\n",
    "import pyscf.lo as lo\n",
    "\n",
    "def find_t(N=2, r=1.4):\n",
    "    mol = pyscf.gto.M(\n",
    "    atom=\";\". join( f\"H 0. 0. {i*r}\" for i in range(N)),\n",
    "    basis='ccpvtz',\n",
    "    )\n",
    "\n",
    "    mf = pyscf.scf.RHF(mol)\n",
    "\n",
    "    mf.kernel()\n",
    "    mo_occ = mf.mo_coeff[:,0:N]\n",
    "    a = lo.iao.iao(mol, mo_occ)\n",
    "\n",
    "    # Orthogonalize IAO\n",
    "    a = lo.vec_lowdin(a, mf.get_ovlp())\n",
    "\n",
    "    R = np.einsum(\"ji,jk,kl->il\", a, mf.get_ovlp(), mo_occ)\n",
    "    print(R.shape)\n",
    "    ts = np.einsum(\"ij,j,kj->ik\", R, mf.mo_energy[0:N],R)\n",
    "    print(ts)\n",
    "    return ts\n"
   ]
  },
  {
   "cell_type": "code",
   "execution_count": 2,
   "metadata": {},
   "outputs": [
    {
     "name": "stdout",
     "output_type": "stream",
     "text": [
      "converged SCF energy = -1.02314024471859\n",
      "(2, 2)\n",
      "[[-0.20220518 -0.25195754]\n",
      " [-0.25195754 -0.20220518]]\n"
     ]
    },
    {
     "data": {
      "text/plain": [
       "array([[-0.20220518, -0.25195754],\n",
       "       [-0.25195754, -0.20220518]])"
      ]
     },
     "execution_count": 2,
     "metadata": {},
     "output_type": "execute_result"
    }
   ],
   "source": [
    "find_t(N=2)"
   ]
  },
  {
   "cell_type": "code",
   "execution_count": 3,
   "metadata": {},
   "outputs": [
    {
     "name": "stdout",
     "output_type": "stream",
     "text": [
      "converged SCF energy = -2.04340408163608\n",
      "(4, 4)\n",
      "[[-0.19654878 -0.25563646  0.0147416   0.01980874]\n",
      " [-0.25563646 -0.19013945 -0.17412852  0.0147416 ]\n",
      " [ 0.0147416  -0.17412852 -0.19013945 -0.25563646]\n",
      " [ 0.01980874  0.0147416  -0.25563646 -0.19654878]]\n"
     ]
    },
    {
     "data": {
      "text/plain": [
       "array([[-0.19654878, -0.25563646,  0.0147416 ,  0.01980874],\n",
       "       [-0.25563646, -0.19013945, -0.17412852,  0.0147416 ],\n",
       "       [ 0.0147416 , -0.17412852, -0.19013945, -0.25563646],\n",
       "       [ 0.01980874,  0.0147416 , -0.25563646, -0.19654878]])"
      ]
     },
     "execution_count": 3,
     "metadata": {},
     "output_type": "execute_result"
    }
   ],
   "source": [
    "find_t(N=4)"
   ]
  },
  {
   "cell_type": "code",
   "execution_count": 4,
   "metadata": {},
   "outputs": [
    {
     "name": "stdout",
     "output_type": "stream",
     "text": [
      "converged SCF energy = -3.06561644808724\n",
      "(6, 6)\n",
      "[[-0.19795825 -0.2537689   0.0168517   0.01707231 -0.00172959 -0.00485281]\n",
      " [-0.2537689  -0.19207856 -0.18324797  0.01997682  0.00189323 -0.00172959]\n",
      " [ 0.0168517  -0.18324797 -0.17131245 -0.27013395  0.01997682  0.01707231]\n",
      " [ 0.01707231  0.01997682 -0.27013395 -0.17131245 -0.18324797  0.0168517 ]\n",
      " [-0.00172959  0.00189323  0.01997682 -0.18324797 -0.19207856 -0.2537689 ]\n",
      " [-0.00485281 -0.00172959  0.01707231  0.0168517  -0.2537689  -0.19795825]]\n"
     ]
    },
    {
     "data": {
      "text/plain": [
       "array([[-0.19795825, -0.2537689 ,  0.0168517 ,  0.01707231, -0.00172959,\n",
       "        -0.00485281],\n",
       "       [-0.2537689 , -0.19207856, -0.18324797,  0.01997682,  0.00189323,\n",
       "        -0.00172959],\n",
       "       [ 0.0168517 , -0.18324797, -0.17131245, -0.27013395,  0.01997682,\n",
       "         0.01707231],\n",
       "       [ 0.01707231,  0.01997682, -0.27013395, -0.17131245, -0.18324797,\n",
       "         0.0168517 ],\n",
       "       [-0.00172959,  0.00189323,  0.01997682, -0.18324797, -0.19207856,\n",
       "        -0.2537689 ],\n",
       "       [-0.00485281, -0.00172959,  0.01707231,  0.0168517 , -0.2537689 ,\n",
       "        -0.19795825]])"
      ]
     },
     "execution_count": 4,
     "metadata": {},
     "output_type": "execute_result"
    }
   ],
   "source": [
    "find_t(N=6)"
   ]
  },
  {
   "cell_type": "code",
   "execution_count": 1,
   "metadata": {},
   "outputs": [
    {
     "ename": "NameError",
     "evalue": "name 'find_t' is not defined",
     "output_type": "error",
     "traceback": [
      "\u001b[0;31m---------------------------------------------------------------------------\u001b[0m",
      "\u001b[0;31mNameError\u001b[0m                                 Traceback (most recent call last)",
      "\u001b[1;32m/Users/lkwagner/work/simons_downfolding_tutorial/tight_binding/t_versus_n.ipynb Cell 1'\u001b[0m in \u001b[0;36m<cell line: 1>\u001b[0;34m()\u001b[0m\n\u001b[0;32m----> <a href='vscode-notebook-cell:/Users/lkwagner/work/simons_downfolding_tutorial/tight_binding/t_versus_n.ipynb#ch0000000?line=0'>1</a>\u001b[0m t \u001b[39m=\u001b[39m find_t(N\u001b[39m=\u001b[39m\u001b[39m8\u001b[39m)\n",
      "\u001b[0;31mNameError\u001b[0m: name 'find_t' is not defined"
     ]
    }
   ],
   "source": [
    "t = find_t(N=8)"
   ]
  },
  {
   "cell_type": "code",
   "execution_count": null,
   "metadata": {},
   "outputs": [],
   "source": []
  }
 ],
 "metadata": {
  "kernelspec": {
   "display_name": "Python 3.9.12 64-bit ('rosetta3.9')",
   "language": "python",
   "name": "python3"
  },
  "language_info": {
   "codemirror_mode": {
    "name": "ipython",
    "version": 3
   },
   "file_extension": ".py",
   "mimetype": "text/x-python",
   "name": "python",
   "nbconvert_exporter": "python",
   "pygments_lexer": "ipython3",
   "version": "3.9.12"
  },
  "orig_nbformat": 4,
  "vscode": {
   "interpreter": {
    "hash": "8846c4f732d2d6b6d2145089b5f8b1821cfe61c54d55006fc82e491edd70b011"
   }
  }
 },
 "nbformat": 4,
 "nbformat_minor": 2
}
