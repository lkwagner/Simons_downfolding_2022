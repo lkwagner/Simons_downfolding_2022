{
 "cells": [
  {
   "cell_type": "code",
   "execution_count": 2,
   "metadata": {},
   "outputs": [],
   "source": [
    "import pyscf\n",
    "from pyscf.tools import cubegen\n",
    "import matplotlib.pyplot as plt\n",
    "import numpy as np\n",
    "import pandas as pd\n",
    "import seaborn as sns\n",
    "import statsmodels.formula.api as sm\n",
    "df = pd.read_csv(\"data.csv\")\n"
   ]
  },
  {
   "cell_type": "code",
   "execution_count": 23,
   "metadata": {},
   "outputs": [
    {
     "data": {
      "text/html": [
       "<table class=\"simpletable\">\n",
       "<caption>OLS Regression Results</caption>\n",
       "<tr>\n",
       "  <th>Dep. Variable:</th>           <td>en</td>        <th>  R-squared:         </th> <td>   1.000</td> \n",
       "</tr>\n",
       "<tr>\n",
       "  <th>Model:</th>                   <td>OLS</td>       <th>  Adj. R-squared:    </th> <td>   1.000</td> \n",
       "</tr>\n",
       "<tr>\n",
       "  <th>Method:</th>             <td>Least Squares</td>  <th>  F-statistic:       </th> <td>3.763e+04</td>\n",
       "</tr>\n",
       "<tr>\n",
       "  <th>Date:</th>             <td>Mon, 20 Jun 2022</td> <th>  Prob (F-statistic):</th> <td>2.25e-28</td> \n",
       "</tr>\n",
       "<tr>\n",
       "  <th>Time:</th>                 <td>10:08:45</td>     <th>  Log-Likelihood:    </th> <td>  136.92</td> \n",
       "</tr>\n",
       "<tr>\n",
       "  <th>No. Observations:</th>      <td>    20</td>      <th>  AIC:               </th> <td>  -261.8</td> \n",
       "</tr>\n",
       "<tr>\n",
       "  <th>Df Residuals:</th>          <td>    14</td>      <th>  BIC:               </th> <td>  -255.9</td> \n",
       "</tr>\n",
       "<tr>\n",
       "  <th>Df Model:</th>              <td>     5</td>      <th>                     </th>     <td> </td>    \n",
       "</tr>\n",
       "<tr>\n",
       "  <th>Covariance Type:</th>      <td>nonrobust</td>    <th>                     </th>     <td> </td>    \n",
       "</tr>\n",
       "</table>\n",
       "<table class=\"simpletable\">\n",
       "<tr>\n",
       "                   <td></td>                      <th>coef</th>     <th>std err</th>      <th>t</th>      <th>P>|t|</th>  <th>[0.025</th>    <th>0.975]</th>  \n",
       "</tr>\n",
       "<tr>\n",
       "  <th>np.vander(r, 6, increasing=True)[0]</th> <td>    0.7427</td> <td>    0.048</td> <td>   15.438</td> <td> 0.000</td> <td>    0.640</td> <td>    0.846</td>\n",
       "</tr>\n",
       "<tr>\n",
       "  <th>np.vander(r, 6, increasing=True)[1]</th> <td>   -8.7409</td> <td>    0.283</td> <td>  -30.932</td> <td> 0.000</td> <td>   -9.347</td> <td>   -8.135</td>\n",
       "</tr>\n",
       "<tr>\n",
       "  <th>np.vander(r, 6, increasing=True)[2]</th> <td>   15.6143</td> <td>    0.644</td> <td>   24.242</td> <td> 0.000</td> <td>   14.233</td> <td>   16.996</td>\n",
       "</tr>\n",
       "<tr>\n",
       "  <th>np.vander(r, 6, increasing=True)[3]</th> <td>  -13.8264</td> <td>    0.713</td> <td>  -19.386</td> <td> 0.000</td> <td>  -15.356</td> <td>  -12.297</td>\n",
       "</tr>\n",
       "<tr>\n",
       "  <th>np.vander(r, 6, increasing=True)[4]</th> <td>    6.1755</td> <td>    0.384</td> <td>   16.066</td> <td> 0.000</td> <td>    5.351</td> <td>    7.000</td>\n",
       "</tr>\n",
       "<tr>\n",
       "  <th>np.vander(r, 6, increasing=True)[5]</th> <td>   -1.1108</td> <td>    0.081</td> <td>  -13.742</td> <td> 0.000</td> <td>   -1.284</td> <td>   -0.937</td>\n",
       "</tr>\n",
       "</table>\n",
       "<table class=\"simpletable\">\n",
       "<tr>\n",
       "  <th>Omnibus:</th>       <td> 2.800</td> <th>  Durbin-Watson:     </th> <td>   2.335</td>\n",
       "</tr>\n",
       "<tr>\n",
       "  <th>Prob(Omnibus):</th> <td> 0.247</td> <th>  Jarque-Bera (JB):  </th> <td>   1.310</td>\n",
       "</tr>\n",
       "<tr>\n",
       "  <th>Skew:</th>          <td>-0.224</td> <th>  Prob(JB):          </th> <td>   0.519</td>\n",
       "</tr>\n",
       "<tr>\n",
       "  <th>Kurtosis:</th>      <td> 1.829</td> <th>  Cond. No.          </th> <td>5.35e+04</td>\n",
       "</tr>\n",
       "</table><br/><br/>Notes:<br/>[1] Standard Errors assume that the covariance matrix of the errors is correctly specified.<br/>[2] The condition number is large, 5.35e+04. This might indicate that there are<br/>strong multicollinearity or other numerical problems."
      ],
      "text/plain": [
       "<class 'statsmodels.iolib.summary.Summary'>\n",
       "\"\"\"\n",
       "                            OLS Regression Results                            \n",
       "==============================================================================\n",
       "Dep. Variable:                     en   R-squared:                       1.000\n",
       "Model:                            OLS   Adj. R-squared:                  1.000\n",
       "Method:                 Least Squares   F-statistic:                 3.763e+04\n",
       "Date:                Mon, 20 Jun 2022   Prob (F-statistic):           2.25e-28\n",
       "Time:                        10:08:45   Log-Likelihood:                 136.92\n",
       "No. Observations:                  20   AIC:                            -261.8\n",
       "Df Residuals:                      14   BIC:                            -255.9\n",
       "Df Model:                           5                                         \n",
       "Covariance Type:            nonrobust                                         \n",
       "=======================================================================================================\n",
       "                                          coef    std err          t      P>|t|      [0.025      0.975]\n",
       "-------------------------------------------------------------------------------------------------------\n",
       "np.vander(r, 6, increasing=True)[0]     0.7427      0.048     15.438      0.000       0.640       0.846\n",
       "np.vander(r, 6, increasing=True)[1]    -8.7409      0.283    -30.932      0.000      -9.347      -8.135\n",
       "np.vander(r, 6, increasing=True)[2]    15.6143      0.644     24.242      0.000      14.233      16.996\n",
       "np.vander(r, 6, increasing=True)[3]   -13.8264      0.713    -19.386      0.000     -15.356     -12.297\n",
       "np.vander(r, 6, increasing=True)[4]     6.1755      0.384     16.066      0.000       5.351       7.000\n",
       "np.vander(r, 6, increasing=True)[5]    -1.1108      0.081    -13.742      0.000      -1.284      -0.937\n",
       "==============================================================================\n",
       "Omnibus:                        2.800   Durbin-Watson:                   2.335\n",
       "Prob(Omnibus):                  0.247   Jarque-Bera (JB):                1.310\n",
       "Skew:                          -0.224   Prob(JB):                        0.519\n",
       "Kurtosis:                       1.829   Cond. No.                     5.35e+04\n",
       "==============================================================================\n",
       "\n",
       "Notes:\n",
       "[1] Standard Errors assume that the covariance matrix of the errors is correctly specified.\n",
       "[2] The condition number is large, 5.35e+04. This might indicate that there are\n",
       "strong multicollinearity or other numerical problems.\n",
       "\"\"\""
      ]
     },
     "execution_count": 23,
     "metadata": {},
     "output_type": "execute_result"
    }
   ],
   "source": [
    "grp = df[df.root==0]\n",
    "fit = sm.ols(\"en~ np.vander(r, 6, increasing=True) - 1\", data =grp).fit()\n",
    "fit.summary()\n"
   ]
  },
  {
   "cell_type": "code",
   "execution_count": null,
   "metadata": {},
   "outputs": [],
   "source": []
  }
 ],
 "metadata": {
  "kernelspec": {
   "display_name": "Python 3.9.12 64-bit ('rosetta3.9')",
   "language": "python",
   "name": "python3"
  },
  "language_info": {
   "codemirror_mode": {
    "name": "ipython",
    "version": 3
   },
   "file_extension": ".py",
   "mimetype": "text/x-python",
   "name": "python",
   "nbconvert_exporter": "python",
   "pygments_lexer": "ipython3",
   "version": "3.9.12"
  },
  "orig_nbformat": 4,
  "vscode": {
   "interpreter": {
    "hash": "8846c4f732d2d6b6d2145089b5f8b1821cfe61c54d55006fc82e491edd70b011"
   }
  }
 },
 "nbformat": 4,
 "nbformat_minor": 2
}
