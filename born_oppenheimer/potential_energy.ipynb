{
 "cells": [
  {
   "cell_type": "code",
   "execution_count": 2,
   "metadata": {},
   "outputs": [
    {
     "data": {
      "text/html": [
       "<div>\n",
       "<style scoped>\n",
       "    .dataframe tbody tr th:only-of-type {\n",
       "        vertical-align: middle;\n",
       "    }\n",
       "\n",
       "    .dataframe tbody tr th {\n",
       "        vertical-align: top;\n",
       "    }\n",
       "\n",
       "    .dataframe thead th {\n",
       "        text-align: right;\n",
       "    }\n",
       "</style>\n",
       "<table border=\"1\" class=\"dataframe\">\n",
       "  <thead>\n",
       "    <tr style=\"text-align: right;\">\n",
       "      <th></th>\n",
       "      <th>r</th>\n",
       "      <th>en</th>\n",
       "      <th>root</th>\n",
       "      <th>method</th>\n",
       "    </tr>\n",
       "  </thead>\n",
       "  <tbody>\n",
       "    <tr>\n",
       "      <th>0</th>\n",
       "      <td>1.115789</td>\n",
       "      <td>-1.126425</td>\n",
       "      <td>0</td>\n",
       "      <td>fci</td>\n",
       "    </tr>\n",
       "    <tr>\n",
       "      <th>1</th>\n",
       "      <td>1.115789</td>\n",
       "      <td>-0.908802</td>\n",
       "      <td>1</td>\n",
       "      <td>fci</td>\n",
       "    </tr>\n",
       "    <tr>\n",
       "      <th>2</th>\n",
       "      <td>1.115789</td>\n",
       "      <td>-0.733139</td>\n",
       "      <td>2</td>\n",
       "      <td>fci</td>\n",
       "    </tr>\n",
       "    <tr>\n",
       "      <th>3</th>\n",
       "      <td>1.115789</td>\n",
       "      <td>-0.610248</td>\n",
       "      <td>3</td>\n",
       "      <td>fci</td>\n",
       "    </tr>\n",
       "    <tr>\n",
       "      <th>4</th>\n",
       "      <td>1.115789</td>\n",
       "      <td>-0.532463</td>\n",
       "      <td>4</td>\n",
       "      <td>fci</td>\n",
       "    </tr>\n",
       "    <tr>\n",
       "      <th>...</th>\n",
       "      <td>...</td>\n",
       "      <td>...</td>\n",
       "      <td>...</td>\n",
       "      <td>...</td>\n",
       "    </tr>\n",
       "    <tr>\n",
       "      <th>115</th>\n",
       "      <td>0.973684</td>\n",
       "      <td>-0.872680</td>\n",
       "      <td>1</td>\n",
       "      <td>fci</td>\n",
       "    </tr>\n",
       "    <tr>\n",
       "      <th>116</th>\n",
       "      <td>0.973684</td>\n",
       "      <td>-0.722485</td>\n",
       "      <td>2</td>\n",
       "      <td>fci</td>\n",
       "    </tr>\n",
       "    <tr>\n",
       "      <th>117</th>\n",
       "      <td>0.973684</td>\n",
       "      <td>-0.624339</td>\n",
       "      <td>3</td>\n",
       "      <td>fci</td>\n",
       "    </tr>\n",
       "    <tr>\n",
       "      <th>118</th>\n",
       "      <td>0.973684</td>\n",
       "      <td>-0.539651</td>\n",
       "      <td>4</td>\n",
       "      <td>fci</td>\n",
       "    </tr>\n",
       "    <tr>\n",
       "      <th>119</th>\n",
       "      <td>0.973684</td>\n",
       "      <td>-0.453714</td>\n",
       "      <td>5</td>\n",
       "      <td>fci</td>\n",
       "    </tr>\n",
       "  </tbody>\n",
       "</table>\n",
       "<p>120 rows × 4 columns</p>\n",
       "</div>"
      ],
      "text/plain": [
       "            r        en  root method\n",
       "0    1.115789 -1.126425     0    fci\n",
       "1    1.115789 -0.908802     1    fci\n",
       "2    1.115789 -0.733139     2    fci\n",
       "3    1.115789 -0.610248     3    fci\n",
       "4    1.115789 -0.532463     4    fci\n",
       "..        ...       ...   ...    ...\n",
       "115  0.973684 -0.872680     1    fci\n",
       "116  0.973684 -0.722485     2    fci\n",
       "117  0.973684 -0.624339     3    fci\n",
       "118  0.973684 -0.539651     4    fci\n",
       "119  0.973684 -0.453714     5    fci\n",
       "\n",
       "[120 rows x 4 columns]"
      ]
     },
     "execution_count": 2,
     "metadata": {},
     "output_type": "execute_result"
    }
   ],
   "source": [
    "import pyscf\n",
    "from pyscf.tools import cubegen\n",
    "import matplotlib.pyplot as plt\n",
    "import numpy as np\n",
    "import pandas as pd\n",
    "import seaborn as sns\n",
    "df = pd.read_csv(\"data.csv\")\n",
    "df"
   ]
  },
  {
   "cell_type": "code",
   "execution_count": 7,
   "metadata": {},
   "outputs": [
    {
     "data": {
      "image/png": "[encoded data removed]",
      "text/plain": [
       "<Figure size 402.375x360 with 1 Axes>"
      ]
     },
     "metadata": {
      "needs_background": "light"
     },
     "output_type": "display_data"
    }
   ],
   "source": [
    "sns.relplot(hue='root',x='r', y='en', data =df)\n",
    "plt.savefig(\"pes.pdf\", bbox_inches='tight')"
   ]
  },
  {
   "cell_type": "code",
   "execution_count": null,
   "metadata": {},
   "outputs": [],
   "source": []
  },
  {
   "cell_type": "markdown",
   "metadata": {},
   "source": []
  }
 ],
 "metadata": {
  "kernelspec": {
   "display_name": "Python 3.9.12 64-bit ('rosetta3.9')",
   "language": "python",
   "name": "python3"
  },
  "language_info": {
   "codemirror_mode": {
    "name": "ipython",
    "version": 3
   },
   "file_extension": ".py",
   "mimetype": "text/x-python",
   "name": "python",
   "nbconvert_exporter": "python",
   "pygments_lexer": "ipython3",
   "version": "3.9.12"
  },
  "orig_nbformat": 4,
  "vscode": {
   "interpreter": {
    "hash": "8846c4f732d2d6b6d2145089b5f8b1821cfe61c54d55006fc82e491edd70b011"
   }
  }
 },
 "nbformat": 4,
 "nbformat_minor": 2
}
